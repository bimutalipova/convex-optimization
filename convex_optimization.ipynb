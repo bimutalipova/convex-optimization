{
 "cells": [
  {
   "cell_type": "markdown",
   "metadata": {},
   "source": [
    "# Introduction"
   ]
  },
  {
   "cell_type": "code",
   "execution_count": 1,
   "metadata": {},
   "outputs": [
    {
     "data": {
      "image/png": "[encoded data removed]",
      "text/plain": [
       "<Figure size 432x288 with 1 Axes>"
      ]
     },
     "metadata": {
      "needs_background": "light"
     },
     "output_type": "display_data"
    }
   ],
   "source": [
    "#introduction general function plotting\n",
    "# Plot the function (x - 1)**4 + x**2\n",
    "import matplotlib.pyplot as plt\n",
    "import numpy as np\n",
    "x = np.linspace(-5,5,100)\n",
    "\n",
    "y =(x - 1)**4 + x**2\n",
    "\n",
    "fig = plt.figure()\n",
    "ax = fig.add_subplot(1, 1, 1)\n",
    "ax.spines['left'].set_position('center')\n",
    "# ax.spines['bottom'].set_position('zero')\n",
    "ax.spines['right'].set_color('none')\n",
    "ax.spines['top'].set_color('none')\n",
    "ax.xaxis.set_ticks_position('bottom')\n",
    "ax.yaxis.set_ticks_position('left')\n",
    "\n",
    "# plot the function\n",
    "plt.plot(x,y, 'r')\n",
    "\n",
    "# show the plot\n",
    "plt.show()\n",
    "\n"
   ]
  },
  {
   "cell_type": "code",
   "execution_count": 2,
   "metadata": {},
   "outputs": [
    {
     "name": "stdout",
     "output_type": "stream",
     "text": [
      "x_min: 0.41, f(x_min): 0.29\n"
     ]
    }
   ],
   "source": [
    "# Write a simple dichotomous algorithm (bisection method) to find the zero of a function.\n",
    "f_initial = lambda x : (x - 1)**4 + x**2\n",
    "f =lambda x : 4*(x - 1)**3 + 2*x\n",
    "\n",
    "def find_root(f, a, b):\n",
    "    if (f(a)*f(b) >=0):\n",
    "        print(\"You have not assumed right a and b\\n\") \n",
    "        return\n",
    "\n",
    "    t = (a+b)/2\n",
    "    if f(t) == 0.0:\n",
    "        return t\n",
    "    else:\n",
    "        while (abs(f(t))>0.001):\n",
    "            t = (a+b)/2\n",
    "            if (f(t)==0.0):\n",
    "                return t\n",
    "#             print(f(t))\n",
    "            if (f(t)*f(b)<0):\n",
    "                a = t\n",
    "            elif (f(t)*f(a)<0):\n",
    "                b = t\n",
    "    return t\n",
    "    \n",
    "root = find_root(f,-200,300)\n",
    "print('x_min: %.02f, f(x_min): %.02f' % (root, f_initial(root)))"
   ]
  },
  {
   "cell_type": "code",
   "execution_count": 3,
   "metadata": {},
   "outputs": [
    {
     "name": "stdout",
     "output_type": "stream",
     "text": [
      "Brent's method for optimization x_min: 0.41, f(x_min): 0.29\n"
     ]
    },
    {
     "data": {
      "text/plain": [
       "<matplotlib.legend.Legend at 0x7fcd9ee53cd0>"
      ]
     },
     "execution_count": 3,
     "metadata": {},
     "output_type": "execute_result"
    },
    {
     "data": {
      "image/png": "[encoded data removed]",
      "text/plain": [
       "<Figure size 432x288 with 1 Axes>"
      ]
     },
     "metadata": {
      "needs_background": "light"
     },
     "output_type": "display_data"
    }
   ],
   "source": [
    "#Brent's method for optimization\n",
    "import matplotlib.pyplot as plt\n",
    "import numpy as np\n",
    "from scipy.optimize import minimize_scalar\n",
    "\n",
    "f = lambda x : (x - 1)**4 + x**2\n",
    "res = minimize_scalar(f, method='brent')\n",
    "print(\"Brent's method for optimization x_min: %.02f, f(x_min): %.02f\" % (res.x, res.fun))\n",
    "\n",
    "# plot curve\n",
    "x = np.linspace(res.x - 1, res.x + 1, 100)\n",
    "y = [f(val) for val in x]\n",
    "plt.plot(x, y, color='blue', label='f')\n",
    "\n",
    "# plot optima\n",
    "plt.scatter(res.x, res.fun, color='red', marker='x', label='Minimum')\n",
    "\n",
    "plt.grid()\n",
    "plt.legend(loc = 1)"
   ]
  },
  {
   "cell_type": "markdown",
   "metadata": {},
   "source": [
    "# Gradient Descent Methods"
   ]
  },
  {
   "cell_type": "markdown",
   "metadata": {},
   "source": [
    "→ How does the learning rate influence the efficiency of the algorithm? What happens if it is very small? What if it is very big?\n",
    "\n",
    "when the learning rate is too low, it takes a lot of steps to converge. On the other hand, when the learning rate is too high, Gradient Descent fails to reach the minimum. "
   ]
  },
  {
   "cell_type": "code",
   "execution_count": 4,
   "metadata": {},
   "outputs": [
    {
     "name": "stdout",
     "output_type": "stream",
     "text": [
      "gradient descent function xmin: 0.41, f(x_min): 0.29\n"
     ]
    }
   ],
   "source": [
    "#Write a simple gradient descent function which finds the minimum of a function f\n",
    "# Similarly, we will stop our search with a precision of 0.001.\n",
    "\n",
    "def gradient_descent(f, f_prime, start, learning_rate):\n",
    "    current_x = start\n",
    "    while (abs(f_prime(current_x))>0.001):\n",
    "        new_x = current_x - learning_rate*f_prime(current_x)\n",
    "        current_x = new_x\n",
    "#         print(current_x)\n",
    "    return current_x\n",
    "\n",
    "\n",
    "f = lambda x : (x - 1) ** 4 + x ** 2\n",
    "f_prime = lambda x : 4*((x-1)**3) + 2*x\n",
    "start = -1\n",
    "x_min = gradient_descent(f, f_prime, start, 0.01)\n",
    "# print(x_min)\n",
    "f_min = f(x_min)\n",
    "\n",
    "print(\"gradient descent function xmin: %0.2f, f(x_min): %0.2f\" % (x_min, f_min))\n"
   ]
  },
  {
   "cell_type": "markdown",
   "metadata": {},
   "source": [
    "# To go further -> Simplex algorithm"
   ]
  },
  {
   "cell_type": "code",
   "execution_count": 5,
   "metadata": {},
   "outputs": [
    {
     "name": "stdout",
     "output_type": "stream",
     "text": [
      "Simplex algorithm: The optimal value is:  -10.999999996814655  and is reached for x =  [3. 4.]\n"
     ]
    }
   ],
   "source": [
    "# → Initialize A, b, and c as numpy arrays\n",
    "\n",
    "# maximize   z = x + 2y\n",
    "# subject to\n",
    "#       • 2x + y ≤ 10\n",
    "#       • -4x + 5y ≤ 8\n",
    "#       • x - 2y ≤ 3\n",
    "#       • x, y ≥ 0\n",
    "import numpy as np\n",
    "\n",
    "A = np.array([[2,1],[-4,5],[1,-2]]) \n",
    "b = np.array([10,8,3]) \n",
    "c = np.array([-1,-2]) \n",
    "from scipy.optimize import linprog\n",
    "\n",
    "def solve_linear_problem(A, b, c):\n",
    "   \n",
    "    res = linprog(c, A_ub=A, b_ub=b, bounds=(0, None))\n",
    "#     print(res)\n",
    "    return res.fun, res.x\n",
    "\n",
    "optimal_value, optimal_arg = solve_linear_problem(A, b, c)\n",
    "\n",
    "print(\"Simplex algorithm: The optimal value is: \", optimal_value, \" and is reached for x = \", optimal_arg)\n",
    "\n",
    "\n",
    "\n",
    "\n"
   ]
  },
  {
   "cell_type": "markdown",
   "metadata": {},
   "source": [
    "solution is located on the edge of the polytope \n",
    "because simplex algorithm does not compute the value of the optimal value at every point,\n",
    "it begins with corner point of feasibility region where x,y = 0 then moves to other corner point\n",
    "and ends when the optimum value is found.\n"
   ]
  },
  {
   "cell_type": "code",
   "execution_count": null,
   "metadata": {},
   "outputs": [],
   "source": []
  },
  {
   "cell_type": "code",
   "execution_count": null,
   "metadata": {},
   "outputs": [],
   "source": []
  },
  {
   "cell_type": "code",
   "execution_count": null,
   "metadata": {},
   "outputs": [],
   "source": []
  }
 ],
 "metadata": {
  "kernelspec": {
   "display_name": "Python 3",
   "language": "python",
   "name": "python3"
  },
  "language_info": {
   "codemirror_mode": {
    "name": "ipython",
    "version": 3
   },
   "file_extension": ".py",
   "mimetype": "text/x-python",
   "name": "python",
   "nbconvert_exporter": "python",
   "pygments_lexer": "ipython3",
   "version": "3.8.3"
  }
 },
 "nbformat": 4,
 "nbformat_minor": 4
}
